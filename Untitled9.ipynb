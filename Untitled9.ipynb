{
 "cells": [
  {
   "cell_type": "markdown",
   "id": "e2b3d59f",
   "metadata": {},
   "source": [
    "# question1"
   ]
  },
  {
   "cell_type": "code",
   "execution_count": 6,
   "id": "1df9ed2a",
   "metadata": {},
   "outputs": [
    {
     "name": "stdout",
     "output_type": "stream",
     "text": [
      "(1, 2, 3)\n"
     ]
    }
   ],
   "source": [
    "class Point3D(object):\n",
    " def __init__(self , x ,y, z):\n",
    "    self.x = x\n",
    "    self.y = y\n",
    "    self.z = z\n",
    " def __repr__(self):\n",
    "    return \"(%d, %d, %d)\" % (self.x, self.y, self.z)\n",
    "my_point = Point3D(1 , 2 , 3) \n",
    "print(my_point)"
   ]
  },
  {
   "cell_type": "markdown",
   "id": "4291f473",
   "metadata": {},
   "source": [
    "# question 2"
   ]
  },
  {
   "cell_type": "code",
   "execution_count": 11,
   "id": "d8c7778c",
   "metadata": {},
   "outputs": [
    {
     "name": "stdout",
     "output_type": "stream",
     "text": [
      "12\n",
      "14\n"
     ]
    }
   ],
   "source": [
    "class Rectangle():\n",
    "    def __init__(self, l, w):\n",
    "        self.length = l\n",
    "        self.width  = w\n",
    "\n",
    "    def rectangle_area(self):\n",
    "        return self.length*self.width\n",
    "        def __init__(self, width, length):\n",
    "         self.length = length\n",
    "         self.width = width\n",
    "        \n",
    "    \n",
    "    def rectangle_perimeter(self):\n",
    "        \n",
    "        return 2 * (self.width + self.length)\n",
    "    \n",
    "my_rectangle = Rectangle(4, 3)\n",
    "print(my_rectangle.rectangle_area())\n",
    "print(my_rectangle.rectangle_perimeter())"
   ]
  },
  {
   "cell_type": "markdown",
   "id": "73a54b92",
   "metadata": {},
   "source": [
    "# question 3"
   ]
  },
  {
   "cell_type": "code",
   "execution_count": 12,
   "id": "ff4f6717",
   "metadata": {},
   "outputs": [
    {
     "name": "stdout",
     "output_type": "stream",
     "text": [
      "Enter radius of circle: 5\n",
      "Area of circle: 78.54\n",
      "Perimeter of circle: 31.42\n"
     ]
    }
   ],
   "source": [
    "import math\n",
    "class circle():\n",
    "    def __init__(self,radius):\n",
    "        self.radius=radius\n",
    "    def area(self):\n",
    "        return math.pi*(self.radius**2)\n",
    "    def perimeter(self):\n",
    "        return 2*math.pi*self.radius\n",
    "    \n",
    "    def isInside(circle_x, circle_y, rad, x, y):\n",
    "     if ((x - circle_x) * (x - circle_x) +\n",
    "        (y - circle_y) * (y - circle_y) <= rad * rad):\n",
    "        return True;\n",
    "     else:\n",
    "        return False;\n",
    "\n",
    " \n",
    "r=int(input(\"Enter radius of circle: \"))\n",
    "obj=circle(r)\n",
    "print(\"Area of circle:\",round(obj.area(),2))\n",
    "print(\"Perimeter of circle:\",round(obj.perimeter(),2))"
   ]
  },
  {
   "cell_type": "markdown",
   "id": "fa17266b",
   "metadata": {},
   "source": [
    "# question 4"
   ]
  },
  {
   "cell_type": "code",
   "execution_count": 13,
   "id": "17475a45",
   "metadata": {},
   "outputs": [
    {
     "name": "stdout",
     "output_type": "stream",
     "text": [
      "Welcome to Deposit & Withdrawal Machine!\n",
      "Enter amount to be deposited: 500\n",
      "Amount Deposited:  500.0\n",
      "Enter amount to withdraw: 100\n",
      "You withdraw:  100.0\n",
      "Net Available Balance= 400.0\n"
     ]
    }
   ],
   "source": [
    "class Bank_Account:\n",
    "    def __init__(self):\n",
    "        self.balance=0\n",
    "        print(\"Welcome to Deposit & Withdrawal Machine!\")\n",
    "        \n",
    "    def deposit(self):\n",
    "        amount=float(input(\"Enter amount to be deposited: \"))\n",
    "        self.balance += amount\n",
    "        print(\"Amount Deposited: \",amount)\n",
    "    def withdraw(self):\n",
    "        amount = float(input(\"Enter amount to withdraw: \"))\n",
    "        if self.balance>=amount:\n",
    "            self.balance-=amount\n",
    "            print(\"You withdraw: \",amount)\n",
    "        else:\n",
    "            print(\"Insufficient balance \")\n",
    "    def display(self):\n",
    "        print(\"Net Available Balance=\",self.balance)\n",
    "\n",
    "s = Bank_Account()\n",
    "\n",
    "s.deposit()\n",
    "s.withdraw()\n",
    "s.display()"
   ]
  }
 ],
 "metadata": {
  "kernelspec": {
   "display_name": "Python 3 (ipykernel)",
   "language": "python",
   "name": "python3"
  },
  "language_info": {
   "codemirror_mode": {
    "name": "ipython",
    "version": 3
   },
   "file_extension": ".py",
   "mimetype": "text/x-python",
   "name": "python",
   "nbconvert_exporter": "python",
   "pygments_lexer": "ipython3",
   "version": "3.9.7"
  }
 },
 "nbformat": 4,
 "nbformat_minor": 5
}
